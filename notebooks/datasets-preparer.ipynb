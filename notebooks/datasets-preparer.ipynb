{
 "cells": [
  {
   "cell_type": "markdown",
   "id": "40869060",
   "metadata": {},
   "source": [
    "# Creating and Preparing Datasets for Training\n",
    "\n",
    "\n",
    "**[Last Updated: Sep 16, 2024]**\n",
    "\n",
    "This notebook is designed to build/prepare datasets for predicting Bitcoin price and movement. It is divided into three key parts:\n",
    "\n",
    "- I. This part is a continuation of [our other Github repository](https://github.com/Bitcoin-Price-Prediction-Experiments/Bitcoin-News-Scraper), where we built our datasets from scratch by extracting them from different sources. The goal now is to combine the two resulted datasets into a single one and determine a sentiment score to each article, using artificial intelligence. The timeline of this Dataset wil span from **2023-05-17** to **2024-05-08**.\n",
    "\n",
    "- II. In the second part, we will prepare a pre-built dataset from [Oliviervha](https://www.kaggle.com/datasets/oliviervha/crypto-news) which is similar to ours and already contains sentiment scores for news articles from **2021-10-12** to **2023-12-19**. First, we will filter it to include only articles related to Bitcoin, then apply a more accurate sentiment analysis model.\n",
    "**Note**: This dataset will be merged with the one from Part 1, resulting in a larger dataset spanning from **2021-10-12** to **2024-05-08**.\n",
    "\n",
    "- III. Finally, we will build a dataset from the files we [downloaded](https://github.com/Bitcoin-Price-Prediction-Experiments/Bitcoin-Transaction-History-Downloader) from Bitget. The data will be organized into 5-hour intervals to align with market movement analysis."
   ]
  },
  {
   "cell_type": "code",
   "execution_count": 1,
   "id": "9936524a-5be9-4fbb-a242-08a4b732b6cc",
   "metadata": {},
   "outputs": [
    {
     "data": {
      "application/javascript": [
       "if (!(\"Notification\" in window)) {\n",
       "    alert(\"This browser does not support desktop notifications, so the %%notify magic will not work.\");\n",
       "} else if (Notification.permission !== 'granted' && Notification.permission !== 'denied') {\n",
       "    Notification.requestPermission(function (permission) {\n",
       "        if(!('permission' in Notification)) {\n",
       "            Notification.permission = permission;\n",
       "        }\n",
       "    })\n",
       "}\n"
      ],
      "text/plain": [
       "<IPython.core.display.Javascript object>"
      ]
     },
     "metadata": {},
     "output_type": "display_data"
    }
   ],
   "source": [
    "%reload_ext jupyternotify\n",
    "%config IPCompleter.greedy=True"
   ]
  },
  {
   "cell_type": "code",
   "execution_count": 2,
   "id": "5c187ddd-1d68-4e97-b95e-c56ae376e2b6",
   "metadata": {},
   "outputs": [],
   "source": [
    "import pandas as pd\n",
    "import numpy as np\n",
    "import os"
   ]
  },
  {
   "cell_type": "code",
   "execution_count": 3,
   "id": "7555b7b1-4064-4a81-9ba1-78b814c86012",
   "metadata": {},
   "outputs": [],
   "source": [
    "os.environ[\"TOKENIZERS_PARALLELISM\"] = \"false\"\n",
    "os.environ['TF_CPP_MIN_LOG_LEVEL'] = '3' "
   ]
  },
  {
   "cell_type": "code",
   "execution_count": 4,
   "id": "73faf755-dbf2-491a-83dc-b8f05c5b0ec8",
   "metadata": {},
   "outputs": [],
   "source": [
    "from transformers import pipeline"
   ]
  },
  {
   "cell_type": "markdown",
   "id": "f333c620",
   "metadata": {},
   "source": [
    "## Part I - Building Our Dataset from Scratch: The Next Steps"
   ]
  },
  {
   "cell_type": "markdown",
   "id": "3d1107d1",
   "metadata": {},
   "source": [
    "### I.1 - Combining the Two Datasets"
   ]
  },
  {
   "cell_type": "code",
   "execution_count": 5,
   "id": "baa796b0-b224-485a-89b4-df77fdf94e02",
   "metadata": {},
   "outputs": [],
   "source": [
    "binance_df = pd.read_csv('../lib/Bitcoin-News-Scraper/data/binance_bitcoin_news.csv', index_col='Date', parse_dates = True)\n",
    "yahoo_df = pd.read_csv('../lib/Bitcoin-News-Scraper/data/yahoo_bitcoin_news.csv', index_col='Date', parse_dates = True)"
   ]
  },
  {
   "cell_type": "code",
   "execution_count": 6,
   "id": "e4aed211-3af6-426c-b36a-635fc9833a3f",
   "metadata": {},
   "outputs": [],
   "source": [
    "articles_23_24 = pd.concat([binance_df, yahoo_df]).sort_index(ascending=False)"
   ]
  },
  {
   "cell_type": "code",
   "execution_count": 7,
   "id": "cfd0beee-3ae1-44e2-be5a-f7c67a5c3bed",
   "metadata": {},
   "outputs": [
    {
     "data": {
      "text/html": [
       "<div>\n",
       "<style scoped>\n",
       "    .dataframe tbody tr th:only-of-type {\n",
       "        vertical-align: middle;\n",
       "    }\n",
       "\n",
       "    .dataframe tbody tr th {\n",
       "        vertical-align: top;\n",
       "    }\n",
       "\n",
       "    .dataframe thead th {\n",
       "        text-align: right;\n",
       "    }\n",
       "</style>\n",
       "<table border=\"1\" class=\"dataframe\">\n",
       "  <thead>\n",
       "    <tr style=\"text-align: right;\">\n",
       "      <th></th>\n",
       "      <th>Description</th>\n",
       "      <th>Short Description</th>\n",
       "    </tr>\n",
       "    <tr>\n",
       "      <th>Date</th>\n",
       "      <th></th>\n",
       "      <th></th>\n",
       "    </tr>\n",
       "  </thead>\n",
       "  <tbody>\n",
       "    <tr>\n",
       "      <th>2024-09-12</th>\n",
       "      <td>According to Cointelegraph, the TIME Magazine ...</td>\n",
       "      <td>Time Magazine reporter Vera Bergengruen believ...</td>\n",
       "    </tr>\n",
       "    <tr>\n",
       "      <th>2024-09-12</th>\n",
       "      <td>According to Foresight News, Bitcoin staking p...</td>\n",
       "      <td>Solv has integrated Chainlink's Cross-Chain In...</td>\n",
       "    </tr>\n",
       "    <tr>\n",
       "      <th>2024-09-12</th>\n",
       "      <td>On Sep 12, 2024, 18:53 PM(UTC). According to B...</td>\n",
       "      <td>Bitcoin has dropped below 58,000 USDT and is n...</td>\n",
       "    </tr>\n",
       "    <tr>\n",
       "      <th>2024-09-12</th>\n",
       "      <td>Digital-trading platform eToro USA agreed to p...</td>\n",
       "      <td>eToro USA has agreed to limit its crypto offe...</td>\n",
       "    </tr>\n",
       "    <tr>\n",
       "      <th>2024-09-12</th>\n",
       "      <td>On Sep 12, 2024, 02:00 AM (UTC), according to ...</td>\n",
       "      <td>Bitcoin has crossed the 58,000 USDT benchmark ...</td>\n",
       "    </tr>\n",
       "    <tr>\n",
       "      <th>...</th>\n",
       "      <td>...</td>\n",
       "      <td>...</td>\n",
       "    </tr>\n",
       "    <tr>\n",
       "      <th>2024-07-22</th>\n",
       "      <td>Traders could be forgiven for wanting to cash ...</td>\n",
       "      <td>Bitcoin has risen more than 20% to the current...</td>\n",
       "    </tr>\n",
       "    <tr>\n",
       "      <th>2024-07-22</th>\n",
       "      <td>Bitcoin financial services firm Swan Bitcoin p...</td>\n",
       "      <td>Swan Bitcoin has discontinued its managed mini...</td>\n",
       "    </tr>\n",
       "    <tr>\n",
       "      <th>2024-07-21</th>\n",
       "      <td>Trump's social media platform company isn’t th...</td>\n",
       "      <td>stock has risen higher as investors have rais...</td>\n",
       "    </tr>\n",
       "    <tr>\n",
       "      <th>2024-07-19</th>\n",
       "      <td>Hugh Hendry, famed former global macro hedge f...</td>\n",
       "      <td>Hugh Hendry is a former global macro hedge fun...</td>\n",
       "    </tr>\n",
       "    <tr>\n",
       "      <th>2024-07-19</th>\n",
       "      <td>XRP accounted for almost 40% of all trading ac...</td>\n",
       "      <td>XRP accounted for almost 40% of all trading ac...</td>\n",
       "    </tr>\n",
       "  </tbody>\n",
       "</table>\n",
       "<p>469 rows × 2 columns</p>\n",
       "</div>"
      ],
      "text/plain": [
       "                                                  Description  \\\n",
       "Date                                                            \n",
       "2024-09-12  According to Cointelegraph, the TIME Magazine ...   \n",
       "2024-09-12  According to Foresight News, Bitcoin staking p...   \n",
       "2024-09-12  On Sep 12, 2024, 18:53 PM(UTC). According to B...   \n",
       "2024-09-12  Digital-trading platform eToro USA agreed to p...   \n",
       "2024-09-12  On Sep 12, 2024, 02:00 AM (UTC), according to ...   \n",
       "...                                                       ...   \n",
       "2024-07-22  Traders could be forgiven for wanting to cash ...   \n",
       "2024-07-22  Bitcoin financial services firm Swan Bitcoin p...   \n",
       "2024-07-21  Trump's social media platform company isn’t th...   \n",
       "2024-07-19  Hugh Hendry, famed former global macro hedge f...   \n",
       "2024-07-19  XRP accounted for almost 40% of all trading ac...   \n",
       "\n",
       "                                            Short Description  \n",
       "Date                                                           \n",
       "2024-09-12  Time Magazine reporter Vera Bergengruen believ...  \n",
       "2024-09-12  Solv has integrated Chainlink's Cross-Chain In...  \n",
       "2024-09-12  Bitcoin has dropped below 58,000 USDT and is n...  \n",
       "2024-09-12   eToro USA has agreed to limit its crypto offe...  \n",
       "2024-09-12  Bitcoin has crossed the 58,000 USDT benchmark ...  \n",
       "...                                                       ...  \n",
       "2024-07-22  Bitcoin has risen more than 20% to the current...  \n",
       "2024-07-22  Swan Bitcoin has discontinued its managed mini...  \n",
       "2024-07-21   stock has risen higher as investors have rais...  \n",
       "2024-07-19  Hugh Hendry is a former global macro hedge fun...  \n",
       "2024-07-19  XRP accounted for almost 40% of all trading ac...  \n",
       "\n",
       "[469 rows x 2 columns]"
      ]
     },
     "execution_count": 7,
     "metadata": {},
     "output_type": "execute_result"
    }
   ],
   "source": [
    "articles_23_24"
   ]
  },
  {
   "cell_type": "markdown",
   "id": "2859e632",
   "metadata": {},
   "source": [
    "### I.2 - Determining Sentiment Scores for Articles\n",
    "\n",
    "For this section, we use a sentiment analysis pipeline to classify text data, employing the model from [Manuel Romero](https://huggingface.co/mrm8488/distilroberta-finetuned-financial-news-sentiment-analysis), which enables precise sentiment classification of news articles, distinguishing between positive, neutral, and negative sentiments.\n",
    "\n",
    "**Note**: It’s crucial to use the appropriate fine-tuned model for your specific needs. In our case, we have chosen a model fine-tuned for financial news to ensure accurate sentiment classification."
   ]
  },
  {
   "cell_type": "code",
   "execution_count": 8,
   "id": "7e211620-4523-4a55-90f7-8e245b9a5a16",
   "metadata": {},
   "outputs": [],
   "source": [
    "sentiments_pipe = pipeline(\"text-classification\", model=\"mrm8488/distilroberta-finetuned-financial-news-sentiment-analysis\")"
   ]
  },
  {
   "cell_type": "code",
   "execution_count": 9,
   "id": "d61f309c-9d2f-43e9-ba90-81b9298c9899",
   "metadata": {},
   "outputs": [],
   "source": [
    "label_sign_map = {\n",
    "    'negative': -1,\n",
    "    'positive': 1,\n",
    "    'neutral': 0\n",
    "}\n",
    "\n",
    "sentiments_array = np.array([])\n",
    "\n",
    "for index in range(articles_23_24.shape[0]):\n",
    "    text = articles_23_24.iloc[index]['Short Description']\n",
    "    \n",
    "    data = sentiments_pipe(text)\n",
    "    label = data[0]['label']\n",
    "    score = data[0]['score']\n",
    "    \n",
    "    sign = label_sign_map.get(label, 0)\n",
    "    \n",
    "    sentiments_score = score * sign\n",
    "    sentiments_array = np.append(sentiments_array, sentiments_score)\n",
    "\n",
    "    # Uncomment the lines below to track the analysis\n",
    "    # if index % 100 == 0:\n",
    "        # print(f\"index N° {index}\")"
   ]
  },
  {
   "cell_type": "code",
   "execution_count": 10,
   "id": "f3849753-2bd4-44a8-afdd-b511b0b82a82",
   "metadata": {},
   "outputs": [],
   "source": [
    "articles_23_24['Accurate Sentiments'] = sentiments_array"
   ]
  },
  {
   "cell_type": "code",
   "execution_count": 11,
   "id": "47287a88-b53e-40f4-9903-66b81ec7c329",
   "metadata": {},
   "outputs": [
    {
     "data": {
      "text/html": [
       "<div>\n",
       "<style scoped>\n",
       "    .dataframe tbody tr th:only-of-type {\n",
       "        vertical-align: middle;\n",
       "    }\n",
       "\n",
       "    .dataframe tbody tr th {\n",
       "        vertical-align: top;\n",
       "    }\n",
       "\n",
       "    .dataframe thead th {\n",
       "        text-align: right;\n",
       "    }\n",
       "</style>\n",
       "<table border=\"1\" class=\"dataframe\">\n",
       "  <thead>\n",
       "    <tr style=\"text-align: right;\">\n",
       "      <th></th>\n",
       "      <th>Description</th>\n",
       "      <th>Short Description</th>\n",
       "      <th>Accurate Sentiments</th>\n",
       "    </tr>\n",
       "    <tr>\n",
       "      <th>Date</th>\n",
       "      <th></th>\n",
       "      <th></th>\n",
       "      <th></th>\n",
       "    </tr>\n",
       "  </thead>\n",
       "  <tbody>\n",
       "    <tr>\n",
       "      <th>2024-09-12</th>\n",
       "      <td>According to Cointelegraph, the TIME Magazine ...</td>\n",
       "      <td>Time Magazine reporter Vera Bergengruen believ...</td>\n",
       "      <td>0.000000</td>\n",
       "    </tr>\n",
       "    <tr>\n",
       "      <th>2024-09-12</th>\n",
       "      <td>According to Foresight News, Bitcoin staking p...</td>\n",
       "      <td>Solv has integrated Chainlink's Cross-Chain In...</td>\n",
       "      <td>0.000000</td>\n",
       "    </tr>\n",
       "    <tr>\n",
       "      <th>2024-09-12</th>\n",
       "      <td>On Sep 12, 2024, 18:53 PM(UTC). According to B...</td>\n",
       "      <td>Bitcoin has dropped below 58,000 USDT and is n...</td>\n",
       "      <td>-0.994299</td>\n",
       "    </tr>\n",
       "    <tr>\n",
       "      <th>2024-09-12</th>\n",
       "      <td>Digital-trading platform eToro USA agreed to p...</td>\n",
       "      <td>eToro USA has agreed to limit its crypto offe...</td>\n",
       "      <td>0.000000</td>\n",
       "    </tr>\n",
       "    <tr>\n",
       "      <th>2024-09-12</th>\n",
       "      <td>On Sep 12, 2024, 02:00 AM (UTC), according to ...</td>\n",
       "      <td>Bitcoin has crossed the 58,000 USDT benchmark ...</td>\n",
       "      <td>0.999640</td>\n",
       "    </tr>\n",
       "  </tbody>\n",
       "</table>\n",
       "</div>"
      ],
      "text/plain": [
       "                                                  Description  \\\n",
       "Date                                                            \n",
       "2024-09-12  According to Cointelegraph, the TIME Magazine ...   \n",
       "2024-09-12  According to Foresight News, Bitcoin staking p...   \n",
       "2024-09-12  On Sep 12, 2024, 18:53 PM(UTC). According to B...   \n",
       "2024-09-12  Digital-trading platform eToro USA agreed to p...   \n",
       "2024-09-12  On Sep 12, 2024, 02:00 AM (UTC), according to ...   \n",
       "\n",
       "                                            Short Description  \\\n",
       "Date                                                            \n",
       "2024-09-12  Time Magazine reporter Vera Bergengruen believ...   \n",
       "2024-09-12  Solv has integrated Chainlink's Cross-Chain In...   \n",
       "2024-09-12  Bitcoin has dropped below 58,000 USDT and is n...   \n",
       "2024-09-12   eToro USA has agreed to limit its crypto offe...   \n",
       "2024-09-12  Bitcoin has crossed the 58,000 USDT benchmark ...   \n",
       "\n",
       "            Accurate Sentiments  \n",
       "Date                             \n",
       "2024-09-12             0.000000  \n",
       "2024-09-12             0.000000  \n",
       "2024-09-12            -0.994299  \n",
       "2024-09-12             0.000000  \n",
       "2024-09-12             0.999640  "
      ]
     },
     "execution_count": 11,
     "metadata": {},
     "output_type": "execute_result"
    }
   ],
   "source": [
    "articles_23_24.head(5)"
   ]
  },
  {
   "cell_type": "code",
   "execution_count": 12,
   "id": "a774cd17-272b-4d27-89a6-7147c29f9089",
   "metadata": {},
   "outputs": [],
   "source": [
    "articles_23_24.to_csv(\"../data/final_data/bitcoin_news_sentiments.csv\")"
   ]
  },
  {
   "cell_type": "markdown",
   "id": "5326f800",
   "metadata": {},
   "source": [
    "**This dataset can be found here: [Kaggle](https://www.kaggle.com/datasets/imadallal/sentiment-analysis-of-bitcoin-news/data)**"
   ]
  },
  {
   "cell_type": "markdown",
   "id": "324bf6a9",
   "metadata": {},
   "source": [
    "## Part II: Preparing the pre-built dataset from **Oliviervha**"
   ]
  },
  {
   "cell_type": "code",
   "execution_count": null,
   "id": "fd06c27e-7c3f-43c7-9e6d-5e47ae115302",
   "metadata": {},
   "outputs": [],
   "source": [
    "!pip install kaggle"
   ]
  },
  {
   "cell_type": "code",
   "execution_count": 12,
   "id": "f7545dfd-7b1c-4806-b9d1-e6350e92f505",
   "metadata": {},
   "outputs": [
    {
     "name": "stdout",
     "output_type": "stream",
     "text": [
      "Dataset URL: https://www.kaggle.com/datasets/oliviervha/crypto-news\n",
      "License(s): unknown\n",
      "Downloading crypto-news.zip to /home/not1txf/Dataset-Viewer-and-Preparer/notebooks\n",
      "100%|██████████████████████████████████████| 3.99M/3.99M [00:02<00:00, 1.53MB/s]\n",
      "100%|██████████████████████████████████████| 3.99M/3.99M [00:02<00:00, 1.48MB/s]\n"
     ]
    }
   ],
   "source": [
    "!kaggle datasets download -d oliviervha/crypto-news"
   ]
  },
  {
   "cell_type": "code",
   "execution_count": 13,
   "id": "4caef0e0-bdd0-4fe6-a95c-bd4426bf036c",
   "metadata": {},
   "outputs": [
    {
     "name": "stdout",
     "output_type": "stream",
     "text": [
      "Archive:  crypto-news.zip\n",
      "  inflating: cryptonews.csv          \n"
     ]
    }
   ],
   "source": [
    "!unzip crypto-news.zip"
   ]
  },
  {
   "cell_type": "code",
   "execution_count": 14,
   "id": "4967e1f5-919c-47ff-965e-d8a78d258078",
   "metadata": {
    "scrolled": true
   },
   "outputs": [
    {
     "data": {
      "text/html": [
       "<div>\n",
       "<style scoped>\n",
       "    .dataframe tbody tr th:only-of-type {\n",
       "        vertical-align: middle;\n",
       "    }\n",
       "\n",
       "    .dataframe tbody tr th {\n",
       "        vertical-align: top;\n",
       "    }\n",
       "\n",
       "    .dataframe thead th {\n",
       "        text-align: right;\n",
       "    }\n",
       "</style>\n",
       "<table border=\"1\" class=\"dataframe\">\n",
       "  <thead>\n",
       "    <tr style=\"text-align: right;\">\n",
       "      <th></th>\n",
       "      <th>date</th>\n",
       "      <th>sentiment</th>\n",
       "      <th>source</th>\n",
       "      <th>subject</th>\n",
       "      <th>text</th>\n",
       "      <th>title</th>\n",
       "      <th>url</th>\n",
       "    </tr>\n",
       "  </thead>\n",
       "  <tbody>\n",
       "    <tr>\n",
       "      <th>0</th>\n",
       "      <td>2023-12-19 06:40:41</td>\n",
       "      <td>{'class': 'negative', 'polarity': -0.1, 'subje...</td>\n",
       "      <td>CryptoNews</td>\n",
       "      <td>altcoin</td>\n",
       "      <td>Grayscale CEO Michael Sonnenshein believes the...</td>\n",
       "      <td>Grayscale CEO Calls for Simultaneous Approval ...</td>\n",
       "      <td>https://cryptonews.comhttps://cryptonews.com/n...</td>\n",
       "    </tr>\n",
       "    <tr>\n",
       "      <th>1</th>\n",
       "      <td>2023-12-19 06:03:24</td>\n",
       "      <td>{'class': 'neutral', 'polarity': 0.0, 'subject...</td>\n",
       "      <td>CryptoNews</td>\n",
       "      <td>blockchain</td>\n",
       "      <td>In an exclusive interview with CryptoNews, Man...</td>\n",
       "      <td>Indian Government is Actively Collaborating Wi...</td>\n",
       "      <td>https://cryptonews.comhttps://cryptonews.com/n...</td>\n",
       "    </tr>\n",
       "    <tr>\n",
       "      <th>2</th>\n",
       "      <td>2023-12-19 05:55:14</td>\n",
       "      <td>{'class': 'positive', 'polarity': 0.05, 'subje...</td>\n",
       "      <td>CryptoNews</td>\n",
       "      <td>blockchain</td>\n",
       "      <td>According to the Federal Court ruling on Decem...</td>\n",
       "      <td>Judge Approves Settlement: Binance to Pay $1.5...</td>\n",
       "      <td>https://cryptonews.comhttps://cryptonews.com/n...</td>\n",
       "    </tr>\n",
       "    <tr>\n",
       "      <th>3</th>\n",
       "      <td>2023-12-19 05:35:26</td>\n",
       "      <td>{'class': 'positive', 'polarity': 0.5, 'subjec...</td>\n",
       "      <td>CoinTelegraph</td>\n",
       "      <td>blockchain</td>\n",
       "      <td>Some suggest EVM inscriptions are the latest w...</td>\n",
       "      <td>Why a gold rush for inscriptions has broken ha...</td>\n",
       "      <td>https://cointelegraph.com/news/inscriptions-ev...</td>\n",
       "    </tr>\n",
       "    <tr>\n",
       "      <th>4</th>\n",
       "      <td>2023-12-19 05:31:08</td>\n",
       "      <td>{'class': 'neutral', 'polarity': 0.0, 'subject...</td>\n",
       "      <td>CoinTelegraph</td>\n",
       "      <td>ethereum</td>\n",
       "      <td>A decision by bloXroute Labs to start censorin...</td>\n",
       "      <td>‘Concerning precedent’ — bloXroute Labs' MEV r...</td>\n",
       "      <td>https://cointelegraph.com/news/concerning-prec...</td>\n",
       "    </tr>\n",
       "    <tr>\n",
       "      <th>...</th>\n",
       "      <td>...</td>\n",
       "      <td>...</td>\n",
       "      <td>...</td>\n",
       "      <td>...</td>\n",
       "      <td>...</td>\n",
       "      <td>...</td>\n",
       "      <td>...</td>\n",
       "    </tr>\n",
       "    <tr>\n",
       "      <th>31032</th>\n",
       "      <td>2021-10-27 15:17:00</td>\n",
       "      <td>{'class': 'neutral', 'polarity': 0.0, 'subject...</td>\n",
       "      <td>CryptoNews</td>\n",
       "      <td>defi</td>\n",
       "      <td>Cream Finance (CREAM) suffered another flash l...</td>\n",
       "      <td>Cream Finance Suffers Another Exploit as Attac...</td>\n",
       "      <td>https://cryptonews.com/news/cream-finance-suff...</td>\n",
       "    </tr>\n",
       "    <tr>\n",
       "      <th>31033</th>\n",
       "      <td>2021-10-19 13:39:00</td>\n",
       "      <td>{'class': 'positive', 'polarity': 0.1, 'subjec...</td>\n",
       "      <td>CryptoNews</td>\n",
       "      <td>blockchain</td>\n",
       "      <td>Banque de France disclosed the results of its ...</td>\n",
       "      <td>French Central Bank's Blockchain Bond Trial Br...</td>\n",
       "      <td>https://cryptonews.com/news/french-central-ban...</td>\n",
       "    </tr>\n",
       "    <tr>\n",
       "      <th>31034</th>\n",
       "      <td>2021-10-18 13:58:00</td>\n",
       "      <td>{'class': 'positive', 'polarity': 0.14, 'subje...</td>\n",
       "      <td>CryptoNews</td>\n",
       "      <td>blockchain</td>\n",
       "      <td>Advancing its project to become \\x9caÂ\\xa0meta...</td>\n",
       "      <td>Facebook To Add 10,000 Jobs In EU For Metavers...</td>\n",
       "      <td>https://cryptonews.com/news/facebook-to-add-10...</td>\n",
       "    </tr>\n",
       "    <tr>\n",
       "      <th>31035</th>\n",
       "      <td>2021-10-15 00:00:00</td>\n",
       "      <td>{'class': 'neutral', 'polarity': 0.0, 'subject...</td>\n",
       "      <td>CryptoNews</td>\n",
       "      <td>blockchain</td>\n",
       "      <td>Chinese companies are still topping the blockc...</td>\n",
       "      <td>Tech Crackdown Hasn't Halted Chinese Firms' Bl...</td>\n",
       "      <td>https://cryptonews.com/news/tech-crackdown-has...</td>\n",
       "    </tr>\n",
       "    <tr>\n",
       "      <th>31036</th>\n",
       "      <td>2021-10-12 20:00:00</td>\n",
       "      <td>{'class': 'positive', 'polarity': 0.16, 'subje...</td>\n",
       "      <td>CryptoNews</td>\n",
       "      <td>blockchain</td>\n",
       "      <td>Within a little more than a year, Celo aims to...</td>\n",
       "      <td>Celo to Be Fastest EVM Chain by End of 2022, C...</td>\n",
       "      <td>https://cryptonews.com/news/celo-to-be-fastest...</td>\n",
       "    </tr>\n",
       "  </tbody>\n",
       "</table>\n",
       "<p>31037 rows × 7 columns</p>\n",
       "</div>"
      ],
      "text/plain": [
       "                      date                                          sentiment  \\\n",
       "0      2023-12-19 06:40:41  {'class': 'negative', 'polarity': -0.1, 'subje...   \n",
       "1      2023-12-19 06:03:24  {'class': 'neutral', 'polarity': 0.0, 'subject...   \n",
       "2      2023-12-19 05:55:14  {'class': 'positive', 'polarity': 0.05, 'subje...   \n",
       "3      2023-12-19 05:35:26  {'class': 'positive', 'polarity': 0.5, 'subjec...   \n",
       "4      2023-12-19 05:31:08  {'class': 'neutral', 'polarity': 0.0, 'subject...   \n",
       "...                    ...                                                ...   \n",
       "31032  2021-10-27 15:17:00  {'class': 'neutral', 'polarity': 0.0, 'subject...   \n",
       "31033  2021-10-19 13:39:00  {'class': 'positive', 'polarity': 0.1, 'subjec...   \n",
       "31034  2021-10-18 13:58:00  {'class': 'positive', 'polarity': 0.14, 'subje...   \n",
       "31035  2021-10-15 00:00:00  {'class': 'neutral', 'polarity': 0.0, 'subject...   \n",
       "31036  2021-10-12 20:00:00  {'class': 'positive', 'polarity': 0.16, 'subje...   \n",
       "\n",
       "              source     subject  \\\n",
       "0         CryptoNews     altcoin   \n",
       "1         CryptoNews  blockchain   \n",
       "2         CryptoNews  blockchain   \n",
       "3      CoinTelegraph  blockchain   \n",
       "4      CoinTelegraph    ethereum   \n",
       "...              ...         ...   \n",
       "31032     CryptoNews        defi   \n",
       "31033     CryptoNews  blockchain   \n",
       "31034     CryptoNews  blockchain   \n",
       "31035     CryptoNews  blockchain   \n",
       "31036     CryptoNews  blockchain   \n",
       "\n",
       "                                                    text  \\\n",
       "0      Grayscale CEO Michael Sonnenshein believes the...   \n",
       "1      In an exclusive interview with CryptoNews, Man...   \n",
       "2      According to the Federal Court ruling on Decem...   \n",
       "3      Some suggest EVM inscriptions are the latest w...   \n",
       "4      A decision by bloXroute Labs to start censorin...   \n",
       "...                                                  ...   \n",
       "31032  Cream Finance (CREAM) suffered another flash l...   \n",
       "31033  Banque de France disclosed the results of its ...   \n",
       "31034  Advancing its project to become \\x9caÂ\\xa0meta...   \n",
       "31035  Chinese companies are still topping the blockc...   \n",
       "31036  Within a little more than a year, Celo aims to...   \n",
       "\n",
       "                                                   title  \\\n",
       "0      Grayscale CEO Calls for Simultaneous Approval ...   \n",
       "1      Indian Government is Actively Collaborating Wi...   \n",
       "2      Judge Approves Settlement: Binance to Pay $1.5...   \n",
       "3      Why a gold rush for inscriptions has broken ha...   \n",
       "4      ‘Concerning precedent’ — bloXroute Labs' MEV r...   \n",
       "...                                                  ...   \n",
       "31032  Cream Finance Suffers Another Exploit as Attac...   \n",
       "31033  French Central Bank's Blockchain Bond Trial Br...   \n",
       "31034  Facebook To Add 10,000 Jobs In EU For Metavers...   \n",
       "31035  Tech Crackdown Hasn't Halted Chinese Firms' Bl...   \n",
       "31036  Celo to Be Fastest EVM Chain by End of 2022, C...   \n",
       "\n",
       "                                                     url  \n",
       "0      https://cryptonews.comhttps://cryptonews.com/n...  \n",
       "1      https://cryptonews.comhttps://cryptonews.com/n...  \n",
       "2      https://cryptonews.comhttps://cryptonews.com/n...  \n",
       "3      https://cointelegraph.com/news/inscriptions-ev...  \n",
       "4      https://cointelegraph.com/news/concerning-prec...  \n",
       "...                                                  ...  \n",
       "31032  https://cryptonews.com/news/cream-finance-suff...  \n",
       "31033  https://cryptonews.com/news/french-central-ban...  \n",
       "31034  https://cryptonews.com/news/facebook-to-add-10...  \n",
       "31035  https://cryptonews.com/news/tech-crackdown-has...  \n",
       "31036  https://cryptonews.com/news/celo-to-be-fastest...  \n",
       "\n",
       "[31037 rows x 7 columns]"
      ]
     },
     "execution_count": 14,
     "metadata": {},
     "output_type": "execute_result"
    }
   ],
   "source": [
    "articles_21_23 = pd.read_csv('cryptonews.csv')\n",
    "articles_21_23"
   ]
  },
  {
   "cell_type": "markdown",
   "id": "d50b8d0b",
   "metadata": {},
   "source": [
    "### II.1 - Filtering the Articles for Bitcoin-Related Content and Removing Duplicates"
   ]
  },
  {
   "cell_type": "code",
   "execution_count": 15,
   "id": "91307dba-4b9b-464a-bd98-52859c66494c",
   "metadata": {},
   "outputs": [
    {
     "data": {
      "text/plain": [
       "(9956, 7)"
      ]
     },
     "execution_count": 15,
     "metadata": {},
     "output_type": "execute_result"
    }
   ],
   "source": [
    "articles_21_23 = articles_21_23[articles_21_23['subject']=='bitcoin'].sort_index(ascending=False).drop_duplicates(subset=['title'])\n",
    "articles_21_23.shape"
   ]
  },
  {
   "cell_type": "markdown",
   "id": "d3f0965a",
   "metadata": {},
   "source": [
    "#### The code below identifies any missing dates in the dataset."
   ]
  },
  {
   "cell_type": "code",
   "execution_count": 16,
   "id": "cc61a555-617a-4c91-b9b3-55cb238c9cf9",
   "metadata": {},
   "outputs": [
    {
     "name": "stdout",
     "output_type": "stream",
     "text": [
      "Number of Missing dates from 2021-11-10 to 2023-12-19: -------- 18 --------\n"
     ]
    }
   ],
   "source": [
    "date_range = pd.date_range(start='2021-11-10', end='2023-12-19', freq='D').date\n",
    "\n",
    "articles_21_23.index = pd.to_datetime(articles_21_23.date)\n",
    "df_index_dates = articles_21_23.index.date\n",
    "\n",
    "missing_dates = np.array([])\n",
    "\n",
    "for date in date_range:\n",
    "    if date not in df_index_dates:\n",
    "        missing_dates = np.append(missing_dates ,date)\n",
    "\n",
    "if not missing_dates.all():\n",
    "    print(\"All dates from 2021-11-10 to 2023-12-19 are present.\")\n",
    "else:\n",
    "    print(f\"Number of Missing dates from 2021-11-10 to 2023-12-19: -------- {missing_dates.shape[0]} --------\")\n",
    "    # Uncomment the lines below to see the missing dates\n",
    "    # for date in missing_dates:\n",
    "    #     print(date.strftime('%Y-%m-%d'))"
   ]
  },
  {
   "cell_type": "markdown",
   "id": "1d06819f",
   "metadata": {},
   "source": [
    "The number of missing dates is within an acceptable range."
   ]
  },
  {
   "cell_type": "markdown",
   "id": "badf2e21",
   "metadata": {},
   "source": [
    "### II.2 - Assigning Sentiment Scores to the Articles"
   ]
  },
  {
   "cell_type": "code",
   "execution_count": 17,
   "id": "fddd5665-57a2-4886-82c2-355c730a464a",
   "metadata": {},
   "outputs": [],
   "source": [
    "sentiments_pipe = pipeline(\"text-classification\", model=\"mrm8488/distilroberta-finetuned-financial-news-sentiment-analysis\")"
   ]
  },
  {
   "cell_type": "markdown",
   "id": "e3b89698-f78a-4e76-b9a9-0a9c9204105a",
   "metadata": {},
   "source": [
    "#### Comparison between ``TextBlob`` and ``Transformers``"
   ]
  },
  {
   "cell_type": "code",
   "execution_count": 20,
   "id": "1d17c1d2-8b3a-4426-b88f-9f2906051460",
   "metadata": {},
   "outputs": [
    {
     "name": "stdout",
     "output_type": "stream",
     "text": [
      "Bitcoin price is struggling to gain momentum for a move to USD 70,000.\n"
     ]
    }
   ],
   "source": [
    "text = articles_21_23.loc['2021-11-10 13:10:00']['text']\n",
    "print(text)"
   ]
  },
  {
   "cell_type": "markdown",
   "id": "dcfef04a-3aba-45b9-b1ca-3f143c1b1b19",
   "metadata": {},
   "source": [
    "**``TextBlob``**"
   ]
  },
  {
   "cell_type": "code",
   "execution_count": 21,
   "id": "19b0de39-befe-42bd-b636-fde3b0194645",
   "metadata": {},
   "outputs": [
    {
     "name": "stdout",
     "output_type": "stream",
     "text": [
      "{'class': 'neutral', 'polarity': 0.0, 'subjectivity': 0.0}\n"
     ]
    }
   ],
   "source": [
    "sentiments = articles_21_23.loc['2021-11-10 13:10:00']['sentiment']\n",
    "print(sentiments)"
   ]
  },
  {
   "cell_type": "markdown",
   "id": "f343d9f2-1330-4833-adf9-6fb3a3b09eb5",
   "metadata": {},
   "source": [
    "**``Transformers``**"
   ]
  },
  {
   "cell_type": "code",
   "execution_count": 22,
   "id": "ca3ebd6a-4316-442e-aa77-7794bb62aecd",
   "metadata": {},
   "outputs": [
    {
     "data": {
      "text/plain": [
       "[{'label': 'negative', 'score': 0.997956395149231}]"
      ]
     },
     "execution_count": 22,
     "metadata": {},
     "output_type": "execute_result"
    }
   ],
   "source": [
    "sentiments_pipe(text)"
   ]
  },
  {
   "cell_type": "markdown",
   "id": "6e67cac6-f579-4aa1-8b79-e49aacabbbf9",
   "metadata": {},
   "source": [
    "#### The cells below update the sentiment scores from ``TextBlob`` with those generated by ``Transformers``"
   ]
  },
  {
   "cell_type": "code",
   "execution_count": 23,
   "id": "ae028f5a-b545-437a-a4ee-4f8a4694c614",
   "metadata": {},
   "outputs": [],
   "source": [
    "label_sign_map = {\n",
    "    'negative': -1,\n",
    "    'positive': 1,\n",
    "    'neutral': 0\n",
    "}\n",
    "\n",
    "sentiments_array = np.array([])\n",
    "\n",
    "for index in range(articles_21_23.shape[0]):        \n",
    "    text = articles_21_23.iloc[index]['text']\n",
    "    \n",
    "    data = sentiments_pipe(text)\n",
    "    label = data[0]['label']\n",
    "    score = data[0]['score']\n",
    "    \n",
    "    sign = label_sign_map.get(label, 0)\n",
    "    \n",
    "    sentiments_score = score * sign\n",
    "    sentiments_array = np.append(sentiments_array, sentiments_score)\n",
    "\n",
    "    # Uncomment the lines below to track the analysis\n",
    "    # if index % 200 == 0:\n",
    "        # print(f\"index N° {index}\")"
   ]
  },
  {
   "cell_type": "code",
   "execution_count": 24,
   "id": "5781ea8e-3f07-496c-9daa-29d86c3eb7cb",
   "metadata": {},
   "outputs": [],
   "source": [
    "articles_21_23['Accurate Sentiments'] = sentiments_array\n",
    "articles_21_23.drop(columns=['date', 'sentiment', 'source', 'subject', 'title', 'url'], inplace=True)"
   ]
  },
  {
   "cell_type": "code",
   "execution_count": 25,
   "id": "e1c358e7-ad32-46cd-a3fd-8fc617b1ab66",
   "metadata": {},
   "outputs": [
    {
     "data": {
      "text/html": [
       "<div>\n",
       "<style scoped>\n",
       "    .dataframe tbody tr th:only-of-type {\n",
       "        vertical-align: middle;\n",
       "    }\n",
       "\n",
       "    .dataframe tbody tr th {\n",
       "        vertical-align: top;\n",
       "    }\n",
       "\n",
       "    .dataframe thead th {\n",
       "        text-align: right;\n",
       "    }\n",
       "</style>\n",
       "<table border=\"1\" class=\"dataframe\">\n",
       "  <thead>\n",
       "    <tr style=\"text-align: right;\">\n",
       "      <th></th>\n",
       "      <th>text</th>\n",
       "      <th>Accurate Sentiments</th>\n",
       "    </tr>\n",
       "    <tr>\n",
       "      <th>date</th>\n",
       "      <th></th>\n",
       "      <th></th>\n",
       "    </tr>\n",
       "  </thead>\n",
       "  <tbody>\n",
       "    <tr>\n",
       "      <th>2021-11-10 04:58:00</th>\n",
       "      <td>Bitcoin price is correcting gains below USD 67...</td>\n",
       "      <td>-0.998189</td>\n",
       "    </tr>\n",
       "    <tr>\n",
       "      <th>2021-11-10 11:09:00</th>\n",
       "      <td>The much-awaited wallet is scheduled to be lau...</td>\n",
       "      <td>0.000000</td>\n",
       "    </tr>\n",
       "    <tr>\n",
       "      <th>2021-11-10 13:10:00</th>\n",
       "      <td>Bitcoin price is struggling to gain momentum f...</td>\n",
       "      <td>-0.997956</td>\n",
       "    </tr>\n",
       "    <tr>\n",
       "      <th>2021-11-10 15:37:00</th>\n",
       "      <td>Bitcoin (BTC) hit yet another all-time high on...</td>\n",
       "      <td>0.999423</td>\n",
       "    </tr>\n",
       "    <tr>\n",
       "      <th>2021-11-11 09:07:00</th>\n",
       "      <td>The latest announcement appears part of a coor...</td>\n",
       "      <td>0.000000</td>\n",
       "    </tr>\n",
       "  </tbody>\n",
       "</table>\n",
       "</div>"
      ],
      "text/plain": [
       "                                                                  text  \\\n",
       "date                                                                     \n",
       "2021-11-10 04:58:00  Bitcoin price is correcting gains below USD 67...   \n",
       "2021-11-10 11:09:00  The much-awaited wallet is scheduled to be lau...   \n",
       "2021-11-10 13:10:00  Bitcoin price is struggling to gain momentum f...   \n",
       "2021-11-10 15:37:00  Bitcoin (BTC) hit yet another all-time high on...   \n",
       "2021-11-11 09:07:00  The latest announcement appears part of a coor...   \n",
       "\n",
       "                     Accurate Sentiments  \n",
       "date                                      \n",
       "2021-11-10 04:58:00            -0.998189  \n",
       "2021-11-10 11:09:00             0.000000  \n",
       "2021-11-10 13:10:00            -0.997956  \n",
       "2021-11-10 15:37:00             0.999423  \n",
       "2021-11-11 09:07:00             0.000000  "
      ]
     },
     "execution_count": 25,
     "metadata": {},
     "output_type": "execute_result"
    }
   ],
   "source": [
    "articles_21_23.head(5)"
   ]
  },
  {
   "cell_type": "code",
   "execution_count": 26,
   "id": "a0ecb766-098a-4507-823a-79367739bd37",
   "metadata": {},
   "outputs": [],
   "source": [
    "articles_21_23.to_csv(\"../data/final_data/bitcoin_news_sentiments_21_23.csv\")"
   ]
  },
  {
   "cell_type": "markdown",
   "id": "4723d508",
   "metadata": {},
   "source": [
    "The updated dataset is available here: _Not defined yet_"
   ]
  },
  {
   "cell_type": "markdown",
   "id": "075446d7",
   "metadata": {},
   "source": [
    "### II.3 - Merging Datasets from Part I and Part II"
   ]
  },
  {
   "cell_type": "code",
   "execution_count": 27,
   "id": "4f3e2dd4-509d-4f9b-b1be-d85ac26434ca",
   "metadata": {},
   "outputs": [
    {
     "data": {
      "text/html": [
       "<div>\n",
       "<style scoped>\n",
       "    .dataframe tbody tr th:only-of-type {\n",
       "        vertical-align: middle;\n",
       "    }\n",
       "\n",
       "    .dataframe tbody tr th {\n",
       "        vertical-align: top;\n",
       "    }\n",
       "\n",
       "    .dataframe thead th {\n",
       "        text-align: right;\n",
       "    }\n",
       "</style>\n",
       "<table border=\"1\" class=\"dataframe\">\n",
       "  <thead>\n",
       "    <tr style=\"text-align: right;\">\n",
       "      <th></th>\n",
       "      <th>Date</th>\n",
       "      <th>Description</th>\n",
       "      <th>Short Description</th>\n",
       "      <th>Accurate Sentiments</th>\n",
       "    </tr>\n",
       "  </thead>\n",
       "  <tbody>\n",
       "    <tr>\n",
       "      <th>0</th>\n",
       "      <td>2024-09-12</td>\n",
       "      <td>According to Cointelegraph, the TIME Magazine ...</td>\n",
       "      <td>Time Magazine reporter Vera Bergengruen believ...</td>\n",
       "      <td>0.000000</td>\n",
       "    </tr>\n",
       "    <tr>\n",
       "      <th>1</th>\n",
       "      <td>2024-09-12</td>\n",
       "      <td>According to Foresight News, Bitcoin staking p...</td>\n",
       "      <td>Solv has integrated Chainlink's Cross-Chain In...</td>\n",
       "      <td>0.000000</td>\n",
       "    </tr>\n",
       "    <tr>\n",
       "      <th>2</th>\n",
       "      <td>2024-09-12</td>\n",
       "      <td>On Sep 12, 2024, 18:53 PM(UTC). According to B...</td>\n",
       "      <td>Bitcoin has dropped below 58,000 USDT and is n...</td>\n",
       "      <td>-0.994299</td>\n",
       "    </tr>\n",
       "    <tr>\n",
       "      <th>3</th>\n",
       "      <td>2024-09-12</td>\n",
       "      <td>Digital-trading platform eToro USA agreed to p...</td>\n",
       "      <td>eToro USA has agreed to limit its crypto offe...</td>\n",
       "      <td>0.000000</td>\n",
       "    </tr>\n",
       "    <tr>\n",
       "      <th>4</th>\n",
       "      <td>2024-09-12</td>\n",
       "      <td>On Sep 12, 2024, 02:00 AM (UTC), according to ...</td>\n",
       "      <td>Bitcoin has crossed the 58,000 USDT benchmark ...</td>\n",
       "      <td>0.999640</td>\n",
       "    </tr>\n",
       "    <tr>\n",
       "      <th>...</th>\n",
       "      <td>...</td>\n",
       "      <td>...</td>\n",
       "      <td>...</td>\n",
       "      <td>...</td>\n",
       "    </tr>\n",
       "    <tr>\n",
       "      <th>464</th>\n",
       "      <td>2024-07-22</td>\n",
       "      <td>Traders could be forgiven for wanting to cash ...</td>\n",
       "      <td>Bitcoin has risen more than 20% to the current...</td>\n",
       "      <td>0.999660</td>\n",
       "    </tr>\n",
       "    <tr>\n",
       "      <th>465</th>\n",
       "      <td>2024-07-22</td>\n",
       "      <td>Bitcoin financial services firm Swan Bitcoin p...</td>\n",
       "      <td>Swan Bitcoin has discontinued its managed mini...</td>\n",
       "      <td>0.000000</td>\n",
       "    </tr>\n",
       "    <tr>\n",
       "      <th>466</th>\n",
       "      <td>2024-07-21</td>\n",
       "      <td>Trump's social media platform company isn’t th...</td>\n",
       "      <td>stock has risen higher as investors have rais...</td>\n",
       "      <td>0.999581</td>\n",
       "    </tr>\n",
       "    <tr>\n",
       "      <th>467</th>\n",
       "      <td>2024-07-19</td>\n",
       "      <td>Hugh Hendry, famed former global macro hedge f...</td>\n",
       "      <td>Hugh Hendry is a former global macro hedge fun...</td>\n",
       "      <td>0.996655</td>\n",
       "    </tr>\n",
       "    <tr>\n",
       "      <th>468</th>\n",
       "      <td>2024-07-19</td>\n",
       "      <td>XRP accounted for almost 40% of all trading ac...</td>\n",
       "      <td>XRP accounted for almost 40% of all trading ac...</td>\n",
       "      <td>0.999675</td>\n",
       "    </tr>\n",
       "  </tbody>\n",
       "</table>\n",
       "<p>469 rows × 4 columns</p>\n",
       "</div>"
      ],
      "text/plain": [
       "          Date                                        Description  \\\n",
       "0   2024-09-12  According to Cointelegraph, the TIME Magazine ...   \n",
       "1   2024-09-12  According to Foresight News, Bitcoin staking p...   \n",
       "2   2024-09-12  On Sep 12, 2024, 18:53 PM(UTC). According to B...   \n",
       "3   2024-09-12  Digital-trading platform eToro USA agreed to p...   \n",
       "4   2024-09-12  On Sep 12, 2024, 02:00 AM (UTC), according to ...   \n",
       "..         ...                                                ...   \n",
       "464 2024-07-22  Traders could be forgiven for wanting to cash ...   \n",
       "465 2024-07-22  Bitcoin financial services firm Swan Bitcoin p...   \n",
       "466 2024-07-21  Trump's social media platform company isn’t th...   \n",
       "467 2024-07-19  Hugh Hendry, famed former global macro hedge f...   \n",
       "468 2024-07-19  XRP accounted for almost 40% of all trading ac...   \n",
       "\n",
       "                                     Short Description  Accurate Sentiments  \n",
       "0    Time Magazine reporter Vera Bergengruen believ...             0.000000  \n",
       "1    Solv has integrated Chainlink's Cross-Chain In...             0.000000  \n",
       "2    Bitcoin has dropped below 58,000 USDT and is n...            -0.994299  \n",
       "3     eToro USA has agreed to limit its crypto offe...             0.000000  \n",
       "4    Bitcoin has crossed the 58,000 USDT benchmark ...             0.999640  \n",
       "..                                                 ...                  ...  \n",
       "464  Bitcoin has risen more than 20% to the current...             0.999660  \n",
       "465  Swan Bitcoin has discontinued its managed mini...             0.000000  \n",
       "466   stock has risen higher as investors have rais...             0.999581  \n",
       "467  Hugh Hendry is a former global macro hedge fun...             0.996655  \n",
       "468  XRP accounted for almost 40% of all trading ac...             0.999675  \n",
       "\n",
       "[469 rows x 4 columns]"
      ]
     },
     "execution_count": 27,
     "metadata": {},
     "output_type": "execute_result"
    }
   ],
   "source": [
    "articles_21_23.reset_index()\n",
    "articles_23_24.reset_index()"
   ]
  },
  {
   "cell_type": "code",
   "execution_count": 34,
   "id": "5bbf1476-d999-41c8-bed6-c102e67b8486",
   "metadata": {},
   "outputs": [],
   "source": [
    "articles_21_24 = pd.concat([articles_21_23, articles_23_24]).sort_index()"
   ]
  },
  {
   "cell_type": "code",
   "execution_count": 35,
   "id": "3a61adfe-76d9-46ce-ae23-f29995ee4e54",
   "metadata": {},
   "outputs": [
    {
     "data": {
      "text/html": [
       "<div>\n",
       "<style scoped>\n",
       "    .dataframe tbody tr th:only-of-type {\n",
       "        vertical-align: middle;\n",
       "    }\n",
       "\n",
       "    .dataframe tbody tr th {\n",
       "        vertical-align: top;\n",
       "    }\n",
       "\n",
       "    .dataframe thead th {\n",
       "        text-align: right;\n",
       "    }\n",
       "</style>\n",
       "<table border=\"1\" class=\"dataframe\">\n",
       "  <thead>\n",
       "    <tr style=\"text-align: right;\">\n",
       "      <th></th>\n",
       "      <th>text</th>\n",
       "      <th>Accurate Sentiments</th>\n",
       "      <th>Description</th>\n",
       "      <th>Short Description</th>\n",
       "    </tr>\n",
       "  </thead>\n",
       "  <tbody>\n",
       "    <tr>\n",
       "      <th>2021-11-05 04:42:00</th>\n",
       "      <td>Bitcoin price is consolidating near the USD 62...</td>\n",
       "      <td>0.998558</td>\n",
       "      <td>NaN</td>\n",
       "      <td>NaN</td>\n",
       "    </tr>\n",
       "    <tr>\n",
       "      <th>2021-11-05 08:15:00</th>\n",
       "      <td>Congress could finally approve or reject the m...</td>\n",
       "      <td>0.000000</td>\n",
       "      <td>NaN</td>\n",
       "      <td>NaN</td>\n",
       "    </tr>\n",
       "    <tr>\n",
       "      <th>2021-11-05 10:24:00</th>\n",
       "      <td>Bitcoin increasingly becoming a political inst...</td>\n",
       "      <td>0.000000</td>\n",
       "      <td>NaN</td>\n",
       "      <td>NaN</td>\n",
       "    </tr>\n",
       "    <tr>\n",
       "      <th>2021-11-05 16:58:00</th>\n",
       "      <td>There is still potential for the price of bitc...</td>\n",
       "      <td>0.999458</td>\n",
       "      <td>NaN</td>\n",
       "      <td>NaN</td>\n",
       "    </tr>\n",
       "    <tr>\n",
       "      <th>2021-11-05 21:00:00</th>\n",
       "      <td>'Several companies' are looking to Latin Ameri...</td>\n",
       "      <td>0.000000</td>\n",
       "      <td>NaN</td>\n",
       "      <td>NaN</td>\n",
       "    </tr>\n",
       "    <tr>\n",
       "      <th>...</th>\n",
       "      <td>...</td>\n",
       "      <td>...</td>\n",
       "      <td>...</td>\n",
       "      <td>...</td>\n",
       "    </tr>\n",
       "    <tr>\n",
       "      <th>2024-09-12 00:00:00</th>\n",
       "      <td>NaN</td>\n",
       "      <td>0.997017</td>\n",
       "      <td>According to Odaily, data from mempool.space i...</td>\n",
       "      <td>According to data from mempool.space, transact...</td>\n",
       "    </tr>\n",
       "    <tr>\n",
       "      <th>2024-09-12 00:00:00</th>\n",
       "      <td>NaN</td>\n",
       "      <td>0.000000</td>\n",
       "      <td>According to Foresight News, Bitcoin staking p...</td>\n",
       "      <td>Solv has integrated Chainlink's Cross-Chain In...</td>\n",
       "    </tr>\n",
       "    <tr>\n",
       "      <th>2024-09-12 00:00:00</th>\n",
       "      <td>NaN</td>\n",
       "      <td>0.000000</td>\n",
       "      <td>According to Cointelegraph, the TIME Magazine ...</td>\n",
       "      <td>Time Magazine reporter Vera Bergengruen believ...</td>\n",
       "    </tr>\n",
       "    <tr>\n",
       "      <th>2024-09-12 00:00:00</th>\n",
       "      <td>NaN</td>\n",
       "      <td>0.999714</td>\n",
       "      <td>This week, our desk noticed that BTC market vo...</td>\n",
       "      <td>This week, the US labour market and CPI data r...</td>\n",
       "    </tr>\n",
       "    <tr>\n",
       "      <th>2024-09-12 00:00:00</th>\n",
       "      <td>NaN</td>\n",
       "      <td>-0.994299</td>\n",
       "      <td>On Sep 12, 2024, 18:53 PM(UTC). According to B...</td>\n",
       "      <td>Bitcoin has dropped below 58,000 USDT and is n...</td>\n",
       "    </tr>\n",
       "  </tbody>\n",
       "</table>\n",
       "<p>10425 rows × 4 columns</p>\n",
       "</div>"
      ],
      "text/plain": [
       "                                                                  text  \\\n",
       "2021-11-05 04:42:00  Bitcoin price is consolidating near the USD 62...   \n",
       "2021-11-05 08:15:00  Congress could finally approve or reject the m...   \n",
       "2021-11-05 10:24:00  Bitcoin increasingly becoming a political inst...   \n",
       "2021-11-05 16:58:00  There is still potential for the price of bitc...   \n",
       "2021-11-05 21:00:00  'Several companies' are looking to Latin Ameri...   \n",
       "...                                                                ...   \n",
       "2024-09-12 00:00:00                                                NaN   \n",
       "2024-09-12 00:00:00                                                NaN   \n",
       "2024-09-12 00:00:00                                                NaN   \n",
       "2024-09-12 00:00:00                                                NaN   \n",
       "2024-09-12 00:00:00                                                NaN   \n",
       "\n",
       "                     Accurate Sentiments  \\\n",
       "2021-11-05 04:42:00             0.998558   \n",
       "2021-11-05 08:15:00             0.000000   \n",
       "2021-11-05 10:24:00             0.000000   \n",
       "2021-11-05 16:58:00             0.999458   \n",
       "2021-11-05 21:00:00             0.000000   \n",
       "...                                  ...   \n",
       "2024-09-12 00:00:00             0.997017   \n",
       "2024-09-12 00:00:00             0.000000   \n",
       "2024-09-12 00:00:00             0.000000   \n",
       "2024-09-12 00:00:00             0.999714   \n",
       "2024-09-12 00:00:00            -0.994299   \n",
       "\n",
       "                                                           Description  \\\n",
       "2021-11-05 04:42:00                                                NaN   \n",
       "2021-11-05 08:15:00                                                NaN   \n",
       "2021-11-05 10:24:00                                                NaN   \n",
       "2021-11-05 16:58:00                                                NaN   \n",
       "2021-11-05 21:00:00                                                NaN   \n",
       "...                                                                ...   \n",
       "2024-09-12 00:00:00  According to Odaily, data from mempool.space i...   \n",
       "2024-09-12 00:00:00  According to Foresight News, Bitcoin staking p...   \n",
       "2024-09-12 00:00:00  According to Cointelegraph, the TIME Magazine ...   \n",
       "2024-09-12 00:00:00  This week, our desk noticed that BTC market vo...   \n",
       "2024-09-12 00:00:00  On Sep 12, 2024, 18:53 PM(UTC). According to B...   \n",
       "\n",
       "                                                     Short Description  \n",
       "2021-11-05 04:42:00                                                NaN  \n",
       "2021-11-05 08:15:00                                                NaN  \n",
       "2021-11-05 10:24:00                                                NaN  \n",
       "2021-11-05 16:58:00                                                NaN  \n",
       "2021-11-05 21:00:00                                                NaN  \n",
       "...                                                                ...  \n",
       "2024-09-12 00:00:00  According to data from mempool.space, transact...  \n",
       "2024-09-12 00:00:00  Solv has integrated Chainlink's Cross-Chain In...  \n",
       "2024-09-12 00:00:00  Time Magazine reporter Vera Bergengruen believ...  \n",
       "2024-09-12 00:00:00  This week, the US labour market and CPI data r...  \n",
       "2024-09-12 00:00:00  Bitcoin has dropped below 58,000 USDT and is n...  \n",
       "\n",
       "[10425 rows x 4 columns]"
      ]
     },
     "execution_count": 35,
     "metadata": {},
     "output_type": "execute_result"
    }
   ],
   "source": [
    "articles_21_24"
   ]
  },
  {
   "cell_type": "code",
   "execution_count": 36,
   "id": "28742115-6d46-4820-b963-239664a76e59",
   "metadata": {},
   "outputs": [
    {
     "data": {
      "text/html": [
       "<div>\n",
       "<style scoped>\n",
       "    .dataframe tbody tr th:only-of-type {\n",
       "        vertical-align: middle;\n",
       "    }\n",
       "\n",
       "    .dataframe tbody tr th {\n",
       "        vertical-align: top;\n",
       "    }\n",
       "\n",
       "    .dataframe thead th {\n",
       "        text-align: right;\n",
       "    }\n",
       "</style>\n",
       "<table border=\"1\" class=\"dataframe\">\n",
       "  <thead>\n",
       "    <tr style=\"text-align: right;\">\n",
       "      <th></th>\n",
       "      <th>Accurate Sentiments</th>\n",
       "    </tr>\n",
       "  </thead>\n",
       "  <tbody>\n",
       "    <tr>\n",
       "      <th>2021-11-05 04:42:00</th>\n",
       "      <td>0.998558</td>\n",
       "    </tr>\n",
       "    <tr>\n",
       "      <th>2021-11-05 08:15:00</th>\n",
       "      <td>0.000000</td>\n",
       "    </tr>\n",
       "    <tr>\n",
       "      <th>2021-11-05 10:24:00</th>\n",
       "      <td>0.000000</td>\n",
       "    </tr>\n",
       "    <tr>\n",
       "      <th>2021-11-05 16:58:00</th>\n",
       "      <td>0.999458</td>\n",
       "    </tr>\n",
       "    <tr>\n",
       "      <th>2021-11-05 21:00:00</th>\n",
       "      <td>0.000000</td>\n",
       "    </tr>\n",
       "    <tr>\n",
       "      <th>...</th>\n",
       "      <td>...</td>\n",
       "    </tr>\n",
       "    <tr>\n",
       "      <th>2024-09-12 00:00:00</th>\n",
       "      <td>0.997017</td>\n",
       "    </tr>\n",
       "    <tr>\n",
       "      <th>2024-09-12 00:00:00</th>\n",
       "      <td>0.000000</td>\n",
       "    </tr>\n",
       "    <tr>\n",
       "      <th>2024-09-12 00:00:00</th>\n",
       "      <td>0.000000</td>\n",
       "    </tr>\n",
       "    <tr>\n",
       "      <th>2024-09-12 00:00:00</th>\n",
       "      <td>0.999714</td>\n",
       "    </tr>\n",
       "    <tr>\n",
       "      <th>2024-09-12 00:00:00</th>\n",
       "      <td>-0.994299</td>\n",
       "    </tr>\n",
       "  </tbody>\n",
       "</table>\n",
       "<p>10425 rows × 1 columns</p>\n",
       "</div>"
      ],
      "text/plain": [
       "                     Accurate Sentiments\n",
       "2021-11-05 04:42:00             0.998558\n",
       "2021-11-05 08:15:00             0.000000\n",
       "2021-11-05 10:24:00             0.000000\n",
       "2021-11-05 16:58:00             0.999458\n",
       "2021-11-05 21:00:00             0.000000\n",
       "...                                  ...\n",
       "2024-09-12 00:00:00             0.997017\n",
       "2024-09-12 00:00:00             0.000000\n",
       "2024-09-12 00:00:00             0.000000\n",
       "2024-09-12 00:00:00             0.999714\n",
       "2024-09-12 00:00:00            -0.994299\n",
       "\n",
       "[10425 rows x 1 columns]"
      ]
     },
     "execution_count": 36,
     "metadata": {},
     "output_type": "execute_result"
    }
   ],
   "source": [
    "articles_21_24.drop(columns=['text', 'Description', 'Short Description'])"
   ]
  },
  {
   "cell_type": "code",
   "execution_count": null,
   "id": "acceb651-e7b4-4648-b5ac-baa71584d344",
   "metadata": {},
   "outputs": [],
   "source": []
  }
 ],
 "metadata": {
  "kernelspec": {
   "display_name": "Python 3 (ipykernel)",
   "language": "python",
   "name": "python3"
  },
  "language_info": {
   "codemirror_mode": {
    "name": "ipython",
    "version": 3
   },
   "file_extension": ".py",
   "mimetype": "text/x-python",
   "name": "python",
   "nbconvert_exporter": "python",
   "pygments_lexer": "ipython3",
   "version": "3.10.12"
  }
 },
 "nbformat": 4,
 "nbformat_minor": 5
}
