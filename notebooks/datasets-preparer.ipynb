{
 "cells": [
  {
   "cell_type": "markdown",
   "id": "40869060",
   "metadata": {},
   "source": [
    "# Building the datasets that will be used in the training process\n",
    "\n",
    "\n",
    "**[Last Updated: Sep 15, 2024]**\n",
    "\n",
    "This notebook is designed to build/prepare datasets for predicting Bitcoin price and movement. It is divided into three key parts:\n",
    "\n",
    "- I. This part is a continuation of [our other Github repository](https://github.com/Bitcoin-Price-Prediction-Experiments/Bitcoin-News-Scraper), where we built our datasets from scratch by extracting them from different sources. The goal now is to merge the two resulted datasets into one and determine a sentiment score to each article, using artificial intelligence. The timeline of this Dataset wil span from **2023-05-17** to **2024-05-08**.\n",
    "\n",
    "- II. In the second part, we will prepare a pre-built dataset from [Oliviervha](https://www.kaggle.com/datasets/oliviervha/crypto-news) which is similar to ours and already contains sentiment scores for news articles from 2021-10-12 to 2023-12-19. First, we will clean up unnecessary columns, then apply a more accurate sentiment analysis model.\n",
    "**Note**: This dataset will be merged with the one from Part 1, resulting in a larger dataset spanning from **2021-10-12** to **2024-05-08**.\n",
    "\n",
    "- III. Finally, we will build a dataset from the files we [downloaded](https://github.com/Bitcoin-Price-Prediction-Experiments/Bitcoin-Transaction-History-Downloader) from Bitget. The data will be organized into 5-hour intervals to align with market movement analysis."
   ]
  },
  {
   "cell_type": "code",
   "execution_count": 1,
   "id": "9936524a-5be9-4fbb-a242-08a4b732b6cc",
   "metadata": {},
   "outputs": [
    {
     "data": {
      "application/javascript": "if (!(\"Notification\" in window)) {\n    alert(\"This browser does not support desktop notifications, so the %%notify magic will not work.\");\n} else if (Notification.permission !== 'granted' && Notification.permission !== 'denied') {\n    Notification.requestPermission(function (permission) {\n        if(!('permission' in Notification)) {\n            Notification.permission = permission;\n        }\n    })\n}\n",
      "text/plain": [
       "<IPython.core.display.Javascript object>"
      ]
     },
     "metadata": {},
     "output_type": "display_data"
    }
   ],
   "source": [
    "%reload_ext jupyternotify\n",
    "%config IPCompleter.greedy=True"
   ]
  },
  {
   "cell_type": "code",
   "execution_count": 2,
   "id": "5c187ddd-1d68-4e97-b95e-c56ae376e2b6",
   "metadata": {},
   "outputs": [],
   "source": [
    "import pandas as pd\n",
    "import numpy as np\n",
    "import matplotlib.pyplot as plt"
   ]
  },
  {
   "cell_type": "markdown",
   "id": "f333c620",
   "metadata": {},
   "source": [
    "## Part I - Building our dataset from scratch: A Continuation"
   ]
  },
  {
   "cell_type": "markdown",
   "id": "3d1107d1",
   "metadata": {},
   "source": [
    "### I.1 - Merging the two datasets"
   ]
  },
  {
   "cell_type": "code",
   "execution_count": null,
   "id": "baa796b0-b224-485a-89b4-df77fdf94e02",
   "metadata": {},
   "outputs": [],
   "source": [
    "binance_df = pd.read_csv('binance_bitcoin_news.csv', index_col='Date', parse_dates = True)\n",
    "yahoo_df = pd.read_csv('yahoo_bitcoin_news.csv', index_col='Date', parse_dates = True)"
   ]
  },
  {
   "cell_type": "code",
   "execution_count": null,
   "id": "e4aed211-3af6-426c-b36a-635fc9833a3f",
   "metadata": {},
   "outputs": [],
   "source": [
    "news_dataset = pd.concat([binance_df, yahoo_df]).sort_index(ascending=False)"
   ]
  },
  {
   "cell_type": "code",
   "execution_count": null,
   "id": "dc7719a1-f4ba-4856-be48-bb93fc582382",
   "metadata": {},
   "outputs": [
    {
     "data": {
      "text/html": [
       "<div>\n",
       "<style scoped>\n",
       "    .dataframe tbody tr th:only-of-type {\n",
       "        vertical-align: middle;\n",
       "    }\n",
       "\n",
       "    .dataframe tbody tr th {\n",
       "        vertical-align: top;\n",
       "    }\n",
       "\n",
       "    .dataframe thead th {\n",
       "        text-align: right;\n",
       "    }\n",
       "</style>\n",
       "<table border=\"1\" class=\"dataframe\">\n",
       "  <thead>\n",
       "    <tr style=\"text-align: right;\">\n",
       "      <th></th>\n",
       "      <th>Description</th>\n",
       "      <th>Short Description</th>\n",
       "    </tr>\n",
       "    <tr>\n",
       "      <th>Date</th>\n",
       "      <th></th>\n",
       "      <th></th>\n",
       "    </tr>\n",
       "  </thead>\n",
       "  <tbody>\n",
       "    <tr>\n",
       "      <th>2024-09-12</th>\n",
       "      <td>According to Cointelegraph, the TIME Magazine ...</td>\n",
       "      <td>Time Magazine reporter Vera Bergengruen believ...</td>\n",
       "    </tr>\n",
       "    <tr>\n",
       "      <th>2024-09-12</th>\n",
       "      <td>According to Foresight News, Bitcoin staking p...</td>\n",
       "      <td>Solv has integrated Chainlink's Cross-Chain In...</td>\n",
       "    </tr>\n",
       "    <tr>\n",
       "      <th>2024-09-12</th>\n",
       "      <td>On Sep 12, 2024, 18:53 PM(UTC). According to B...</td>\n",
       "      <td>Bitcoin has dropped below 58,000 USDT and is n...</td>\n",
       "    </tr>\n",
       "    <tr>\n",
       "      <th>2024-09-12</th>\n",
       "      <td>Digital-trading platform eToro USA agreed to p...</td>\n",
       "      <td>eToro USA has agreed to limit its crypto offe...</td>\n",
       "    </tr>\n",
       "    <tr>\n",
       "      <th>2024-09-12</th>\n",
       "      <td>On Sep 12, 2024, 02:00 AM (UTC), according to ...</td>\n",
       "      <td>Bitcoin has crossed the 58,000 USDT benchmark ...</td>\n",
       "    </tr>\n",
       "    <tr>\n",
       "      <th>...</th>\n",
       "      <td>...</td>\n",
       "      <td>...</td>\n",
       "    </tr>\n",
       "    <tr>\n",
       "      <th>2024-07-22</th>\n",
       "      <td>Traders could be forgiven for wanting to cash ...</td>\n",
       "      <td>Bitcoin has risen more than 20% to the current...</td>\n",
       "    </tr>\n",
       "    <tr>\n",
       "      <th>2024-07-22</th>\n",
       "      <td>Bitcoin financial services firm Swan Bitcoin p...</td>\n",
       "      <td>Swan Bitcoin has discontinued its managed mini...</td>\n",
       "    </tr>\n",
       "    <tr>\n",
       "      <th>2024-07-21</th>\n",
       "      <td>Trump's social media platform company isn’t th...</td>\n",
       "      <td>stock has risen higher as investors have rais...</td>\n",
       "    </tr>\n",
       "    <tr>\n",
       "      <th>2024-07-19</th>\n",
       "      <td>Hugh Hendry, famed former global macro hedge f...</td>\n",
       "      <td>Hugh Hendry is a former global macro hedge fun...</td>\n",
       "    </tr>\n",
       "    <tr>\n",
       "      <th>2024-07-19</th>\n",
       "      <td>XRP accounted for almost 40% of all trading ac...</td>\n",
       "      <td>XRP accounted for almost 40% of all trading ac...</td>\n",
       "    </tr>\n",
       "  </tbody>\n",
       "</table>\n",
       "<p>469 rows × 2 columns</p>\n",
       "</div>"
      ],
      "text/plain": [
       "                                                  Description  \\\n",
       "Date                                                            \n",
       "2024-09-12  According to Cointelegraph, the TIME Magazine ...   \n",
       "2024-09-12  According to Foresight News, Bitcoin staking p...   \n",
       "2024-09-12  On Sep 12, 2024, 18:53 PM(UTC). According to B...   \n",
       "2024-09-12  Digital-trading platform eToro USA agreed to p...   \n",
       "2024-09-12  On Sep 12, 2024, 02:00 AM (UTC), according to ...   \n",
       "...                                                       ...   \n",
       "2024-07-22  Traders could be forgiven for wanting to cash ...   \n",
       "2024-07-22  Bitcoin financial services firm Swan Bitcoin p...   \n",
       "2024-07-21  Trump's social media platform company isn’t th...   \n",
       "2024-07-19  Hugh Hendry, famed former global macro hedge f...   \n",
       "2024-07-19  XRP accounted for almost 40% of all trading ac...   \n",
       "\n",
       "                                            Short Description  \n",
       "Date                                                           \n",
       "2024-09-12  Time Magazine reporter Vera Bergengruen believ...  \n",
       "2024-09-12  Solv has integrated Chainlink's Cross-Chain In...  \n",
       "2024-09-12  Bitcoin has dropped below 58,000 USDT and is n...  \n",
       "2024-09-12   eToro USA has agreed to limit its crypto offe...  \n",
       "2024-09-12  Bitcoin has crossed the 58,000 USDT benchmark ...  \n",
       "...                                                       ...  \n",
       "2024-07-22  Bitcoin has risen more than 20% to the current...  \n",
       "2024-07-22  Swan Bitcoin has discontinued its managed mini...  \n",
       "2024-07-21   stock has risen higher as investors have rais...  \n",
       "2024-07-19  Hugh Hendry is a former global macro hedge fun...  \n",
       "2024-07-19  XRP accounted for almost 40% of all trading ac...  \n",
       "\n",
       "[469 rows x 2 columns]"
      ]
     },
     "execution_count": 5,
     "metadata": {},
     "output_type": "execute_result"
    }
   ],
   "source": [
    "news_dataset"
   ]
  },
  {
   "cell_type": "markdown",
   "id": "2859e632",
   "metadata": {},
   "source": [
    "### Determining Sentiment Scores for Articles\n",
    "\n",
    "For this section, we use a sentiment analysis pipeline to classify text data, employing the model from [Manuel Romero](https://huggingface.co/mrm8488/distilroberta-finetuned-financial-news-sentiment-analysis), which enables precise sentiment classification of news articles, distinguishing between positive, neutral, and negative sentiments.\n",
    "\n",
    "**Note**: It’s crucial to use the appropriate fine-tuned model for your specific needs. In our case, we have chosen a model fine-tuned for financial news to ensure accurate sentiment classification."
   ]
  },
  {
   "cell_type": "code",
   "execution_count": null,
   "id": "7e211620-4523-4a55-90f7-8e245b9a5a16",
   "metadata": {},
   "outputs": [
    {
     "name": "stderr",
     "output_type": "stream",
     "text": [
      "2024-09-15 16:19:03.661921: E external/local_xla/xla/stream_executor/cuda/cuda_dnn.cc:9261] Unable to register cuDNN factory: Attempting to register factory for plugin cuDNN when one has already been registered\n",
      "2024-09-15 16:19:03.661985: E external/local_xla/xla/stream_executor/cuda/cuda_fft.cc:607] Unable to register cuFFT factory: Attempting to register factory for plugin cuFFT when one has already been registered\n",
      "2024-09-15 16:19:03.663044: E external/local_xla/xla/stream_executor/cuda/cuda_blas.cc:1515] Unable to register cuBLAS factory: Attempting to register factory for plugin cuBLAS when one has already been registered\n",
      "2024-09-15 16:19:03.669012: I tensorflow/core/platform/cpu_feature_guard.cc:182] This TensorFlow binary is optimized to use available CPU instructions in performance-critical operations.\n",
      "To enable the following instructions: AVX2 FMA, in other operations, rebuild TensorFlow with the appropriate compiler flags.\n",
      "2024-09-15 16:19:04.385696: W tensorflow/compiler/tf2tensorrt/utils/py_utils.cc:38] TF-TRT Warning: Could not find TensorRT\n"
     ]
    }
   ],
   "source": [
    "from transformers import pipeline\n",
    "sentiments_pipe = pipeline(\"text-classification\", model=\"mrm8488/distilroberta-finetuned-financial-news-sentiment-analysis\")"
   ]
  },
  {
   "cell_type": "code",
   "execution_count": null,
   "id": "d61f309c-9d2f-43e9-ba90-81b9298c9899",
   "metadata": {},
   "outputs": [
    {
     "name": "stdout",
     "output_type": "stream",
     "text": [
      "END of analysis\n"
     ]
    }
   ],
   "source": [
    "label_sign_map = {\n",
    "    'negative': -1,\n",
    "    'positive': 1,\n",
    "    'neutral': 0\n",
    "}\n",
    "\n",
    "sentiments_array = np.array([])\n",
    "\n",
    "for index in range(news_dataset.shape[0]):\n",
    "    # Uncomment the lines below to track the analysis\n",
    "    # if index % 100 == 0:\n",
    "        # print(f\"index N°={index}\")\n",
    "        \n",
    "    text = news_dataset.iloc[index]['Short Description']\n",
    "    \n",
    "    data = sentiments_pipe(text)\n",
    "    label = data[0]['label']\n",
    "    score = data[0]['score']\n",
    "    \n",
    "    sign = label_sign_map.get(label, 0)\n",
    "    \n",
    "    sentiments_score = score * sign\n",
    "    sentiments_array = np.append(sentiments_array, sentiments_score)\n",
    "print(\"END of analysis\")"
   ]
  },
  {
   "cell_type": "code",
   "execution_count": null,
   "id": "f3849753-2bd4-44a8-afdd-b511b0b82a82",
   "metadata": {},
   "outputs": [],
   "source": [
    "news_dataset['Accurate Sentiments'] = sentiments_array"
   ]
  },
  {
   "cell_type": "code",
   "execution_count": null,
   "id": "47287a88-b53e-40f4-9903-66b81ec7c329",
   "metadata": {},
   "outputs": [
    {
     "data": {
      "text/html": [
       "<div>\n",
       "<style scoped>\n",
       "    .dataframe tbody tr th:only-of-type {\n",
       "        vertical-align: middle;\n",
       "    }\n",
       "\n",
       "    .dataframe tbody tr th {\n",
       "        vertical-align: top;\n",
       "    }\n",
       "\n",
       "    .dataframe thead th {\n",
       "        text-align: right;\n",
       "    }\n",
       "</style>\n",
       "<table border=\"1\" class=\"dataframe\">\n",
       "  <thead>\n",
       "    <tr style=\"text-align: right;\">\n",
       "      <th></th>\n",
       "      <th>Description</th>\n",
       "      <th>Short Description</th>\n",
       "      <th>Accurate Sentiments</th>\n",
       "    </tr>\n",
       "    <tr>\n",
       "      <th>Date</th>\n",
       "      <th></th>\n",
       "      <th></th>\n",
       "      <th></th>\n",
       "    </tr>\n",
       "  </thead>\n",
       "  <tbody>\n",
       "    <tr>\n",
       "      <th>2024-09-12</th>\n",
       "      <td>According to Cointelegraph, the TIME Magazine ...</td>\n",
       "      <td>Time Magazine reporter Vera Bergengruen believ...</td>\n",
       "      <td>0.000000</td>\n",
       "    </tr>\n",
       "    <tr>\n",
       "      <th>2024-09-12</th>\n",
       "      <td>According to Foresight News, Bitcoin staking p...</td>\n",
       "      <td>Solv has integrated Chainlink's Cross-Chain In...</td>\n",
       "      <td>0.000000</td>\n",
       "    </tr>\n",
       "    <tr>\n",
       "      <th>2024-09-12</th>\n",
       "      <td>On Sep 12, 2024, 18:53 PM(UTC). According to B...</td>\n",
       "      <td>Bitcoin has dropped below 58,000 USDT and is n...</td>\n",
       "      <td>-0.994299</td>\n",
       "    </tr>\n",
       "    <tr>\n",
       "      <th>2024-09-12</th>\n",
       "      <td>Digital-trading platform eToro USA agreed to p...</td>\n",
       "      <td>eToro USA has agreed to limit its crypto offe...</td>\n",
       "      <td>0.000000</td>\n",
       "    </tr>\n",
       "    <tr>\n",
       "      <th>2024-09-12</th>\n",
       "      <td>On Sep 12, 2024, 02:00 AM (UTC), according to ...</td>\n",
       "      <td>Bitcoin has crossed the 58,000 USDT benchmark ...</td>\n",
       "      <td>0.999640</td>\n",
       "    </tr>\n",
       "    <tr>\n",
       "      <th>...</th>\n",
       "      <td>...</td>\n",
       "      <td>...</td>\n",
       "      <td>...</td>\n",
       "    </tr>\n",
       "    <tr>\n",
       "      <th>2024-07-22</th>\n",
       "      <td>Traders could be forgiven for wanting to cash ...</td>\n",
       "      <td>Bitcoin has risen more than 20% to the current...</td>\n",
       "      <td>0.999660</td>\n",
       "    </tr>\n",
       "    <tr>\n",
       "      <th>2024-07-22</th>\n",
       "      <td>Bitcoin financial services firm Swan Bitcoin p...</td>\n",
       "      <td>Swan Bitcoin has discontinued its managed mini...</td>\n",
       "      <td>0.000000</td>\n",
       "    </tr>\n",
       "    <tr>\n",
       "      <th>2024-07-21</th>\n",
       "      <td>Trump's social media platform company isn’t th...</td>\n",
       "      <td>stock has risen higher as investors have rais...</td>\n",
       "      <td>0.999581</td>\n",
       "    </tr>\n",
       "    <tr>\n",
       "      <th>2024-07-19</th>\n",
       "      <td>Hugh Hendry, famed former global macro hedge f...</td>\n",
       "      <td>Hugh Hendry is a former global macro hedge fun...</td>\n",
       "      <td>0.996655</td>\n",
       "    </tr>\n",
       "    <tr>\n",
       "      <th>2024-07-19</th>\n",
       "      <td>XRP accounted for almost 40% of all trading ac...</td>\n",
       "      <td>XRP accounted for almost 40% of all trading ac...</td>\n",
       "      <td>0.999675</td>\n",
       "    </tr>\n",
       "  </tbody>\n",
       "</table>\n",
       "<p>469 rows × 3 columns</p>\n",
       "</div>"
      ],
      "text/plain": [
       "                                                  Description  \\\n",
       "Date                                                            \n",
       "2024-09-12  According to Cointelegraph, the TIME Magazine ...   \n",
       "2024-09-12  According to Foresight News, Bitcoin staking p...   \n",
       "2024-09-12  On Sep 12, 2024, 18:53 PM(UTC). According to B...   \n",
       "2024-09-12  Digital-trading platform eToro USA agreed to p...   \n",
       "2024-09-12  On Sep 12, 2024, 02:00 AM (UTC), according to ...   \n",
       "...                                                       ...   \n",
       "2024-07-22  Traders could be forgiven for wanting to cash ...   \n",
       "2024-07-22  Bitcoin financial services firm Swan Bitcoin p...   \n",
       "2024-07-21  Trump's social media platform company isn’t th...   \n",
       "2024-07-19  Hugh Hendry, famed former global macro hedge f...   \n",
       "2024-07-19  XRP accounted for almost 40% of all trading ac...   \n",
       "\n",
       "                                            Short Description  \\\n",
       "Date                                                            \n",
       "2024-09-12  Time Magazine reporter Vera Bergengruen believ...   \n",
       "2024-09-12  Solv has integrated Chainlink's Cross-Chain In...   \n",
       "2024-09-12  Bitcoin has dropped below 58,000 USDT and is n...   \n",
       "2024-09-12   eToro USA has agreed to limit its crypto offe...   \n",
       "2024-09-12  Bitcoin has crossed the 58,000 USDT benchmark ...   \n",
       "...                                                       ...   \n",
       "2024-07-22  Bitcoin has risen more than 20% to the current...   \n",
       "2024-07-22  Swan Bitcoin has discontinued its managed mini...   \n",
       "2024-07-21   stock has risen higher as investors have rais...   \n",
       "2024-07-19  Hugh Hendry is a former global macro hedge fun...   \n",
       "2024-07-19  XRP accounted for almost 40% of all trading ac...   \n",
       "\n",
       "            Accurate Sentiments  \n",
       "Date                             \n",
       "2024-09-12             0.000000  \n",
       "2024-09-12             0.000000  \n",
       "2024-09-12            -0.994299  \n",
       "2024-09-12             0.000000  \n",
       "2024-09-12             0.999640  \n",
       "...                         ...  \n",
       "2024-07-22             0.999660  \n",
       "2024-07-22             0.000000  \n",
       "2024-07-21             0.999581  \n",
       "2024-07-19             0.996655  \n",
       "2024-07-19             0.999675  \n",
       "\n",
       "[469 rows x 3 columns]"
      ]
     },
     "execution_count": 9,
     "metadata": {},
     "output_type": "execute_result"
    }
   ],
   "source": [
    "news_dataset"
   ]
  },
  {
   "cell_type": "code",
   "execution_count": null,
   "id": "a774cd17-272b-4d27-89a6-7147c29f9089",
   "metadata": {},
   "outputs": [],
   "source": [
    "news_dataset.to_csv(\"./data/final_data/bitcoin_news_sentiments.csv\")"
   ]
  },
  {
   "cell_type": "markdown",
   "id": "5326f800",
   "metadata": {},
   "source": [
    "#### This dataset can be found here: [Kaggle](https://www.kaggle.com/datasets/imadallal/sentiment-analysis-of-bitcoin-news/data)"
   ]
  },
  {
   "cell_type": "markdown",
   "id": "324bf6a9",
   "metadata": {},
   "source": [
    "## Part 2: Preparing the dataset from Kaggle and merge it with the one from Part 1"
   ]
  },
  {
   "cell_type": "code",
   "execution_count": null,
   "id": "7fa4b145",
   "metadata": {},
   "outputs": [],
   "source": []
  }
 ],
 "metadata": {
  "kernelspec": {
   "display_name": "Python 3 (ipykernel)",
   "language": "python",
   "name": "python3"
  },
  "language_info": {
   "codemirror_mode": {
    "name": "ipython",
    "version": 3
   },
   "file_extension": ".py",
   "mimetype": "text/x-python",
   "name": "python",
   "nbconvert_exporter": "python",
   "pygments_lexer": "ipython3",
   "version": "3.10.12"
  }
 },
 "nbformat": 4,
 "nbformat_minor": 5
}
