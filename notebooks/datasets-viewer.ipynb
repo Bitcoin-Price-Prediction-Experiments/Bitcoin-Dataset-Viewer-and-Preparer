{
 "cells": [
  {
   "cell_type": "code",
   "execution_count": 23,
   "metadata": {},
   "outputs": [
    {
     "data": {
      "application/javascript": "if (!(\"Notification\" in window)) {\n    alert(\"This browser does not support desktop notifications, so the %%notify magic will not work.\");\n} else if (Notification.permission !== 'granted' && Notification.permission !== 'denied') {\n    Notification.requestPermission(function (permission) {\n        if(!('permission' in Notification)) {\n            Notification.permission = permission;\n        }\n    })\n}\n",
      "text/plain": [
       "<IPython.core.display.Javascript object>"
      ]
     },
     "metadata": {},
     "output_type": "display_data"
    }
   ],
   "source": [
    "%reload_ext jupyternotify\n",
    "%config IPCompleter.greedy=True"
   ]
  },
  {
   "cell_type": "markdown",
   "metadata": {},
   "source": []
  },
  {
   "cell_type": "code",
   "execution_count": null,
   "metadata": {},
   "outputs": [],
   "source": [
    "import pandas as pd\n",
    "import numpy as np\n",
    "import os"
   ]
  },
  {
   "cell_type": "code",
   "execution_count": 24,
   "metadata": {},
   "outputs": [
    {
     "data": {
      "text/html": [
       "<div>\n",
       "<style scoped>\n",
       "    .dataframe tbody tr th:only-of-type {\n",
       "        vertical-align: middle;\n",
       "    }\n",
       "\n",
       "    .dataframe tbody tr th {\n",
       "        vertical-align: top;\n",
       "    }\n",
       "\n",
       "    .dataframe thead th {\n",
       "        text-align: right;\n",
       "    }\n",
       "</style>\n",
       "<table border=\"1\" class=\"dataframe\">\n",
       "  <thead>\n",
       "    <tr style=\"text-align: right;\">\n",
       "      <th></th>\n",
       "      <th>Date</th>\n",
       "      <th>Description</th>\n",
       "      <th>Short Description</th>\n",
       "      <th>Accurate Sentiments</th>\n",
       "    </tr>\n",
       "  </thead>\n",
       "  <tbody>\n",
       "    <tr>\n",
       "      <th>0</th>\n",
       "      <td>2024-09-12</td>\n",
       "      <td>According to Cointelegraph, the TIME Magazine ...</td>\n",
       "      <td>Time Magazine reporter Vera Bergengruen believ...</td>\n",
       "      <td>0.000000</td>\n",
       "    </tr>\n",
       "    <tr>\n",
       "      <th>1</th>\n",
       "      <td>2024-09-12</td>\n",
       "      <td>According to Foresight News, Bitcoin staking p...</td>\n",
       "      <td>Solv has integrated Chainlink's Cross-Chain In...</td>\n",
       "      <td>0.000000</td>\n",
       "    </tr>\n",
       "    <tr>\n",
       "      <th>2</th>\n",
       "      <td>2024-09-12</td>\n",
       "      <td>On Sep 12, 2024, 18:53 PM(UTC). According to B...</td>\n",
       "      <td>Bitcoin has dropped below 58,000 USDT and is n...</td>\n",
       "      <td>-0.994299</td>\n",
       "    </tr>\n",
       "    <tr>\n",
       "      <th>3</th>\n",
       "      <td>2024-09-12</td>\n",
       "      <td>Digital-trading platform eToro USA agreed to p...</td>\n",
       "      <td>eToro USA has agreed to limit its crypto offe...</td>\n",
       "      <td>0.000000</td>\n",
       "    </tr>\n",
       "    <tr>\n",
       "      <th>4</th>\n",
       "      <td>2024-09-12</td>\n",
       "      <td>On Sep 12, 2024, 02:00 AM (UTC), according to ...</td>\n",
       "      <td>Bitcoin has crossed the 58,000 USDT benchmark ...</td>\n",
       "      <td>0.999640</td>\n",
       "    </tr>\n",
       "    <tr>\n",
       "      <th>...</th>\n",
       "      <td>...</td>\n",
       "      <td>...</td>\n",
       "      <td>...</td>\n",
       "      <td>...</td>\n",
       "    </tr>\n",
       "    <tr>\n",
       "      <th>464</th>\n",
       "      <td>2024-07-22</td>\n",
       "      <td>Traders could be forgiven for wanting to cash ...</td>\n",
       "      <td>Bitcoin has risen more than 20% to the current...</td>\n",
       "      <td>0.999660</td>\n",
       "    </tr>\n",
       "    <tr>\n",
       "      <th>465</th>\n",
       "      <td>2024-07-22</td>\n",
       "      <td>Bitcoin financial services firm Swan Bitcoin p...</td>\n",
       "      <td>Swan Bitcoin has discontinued its managed mini...</td>\n",
       "      <td>0.000000</td>\n",
       "    </tr>\n",
       "    <tr>\n",
       "      <th>466</th>\n",
       "      <td>2024-07-21</td>\n",
       "      <td>Trump's social media platform company isn’t th...</td>\n",
       "      <td>stock has risen higher as investors have rais...</td>\n",
       "      <td>0.999581</td>\n",
       "    </tr>\n",
       "    <tr>\n",
       "      <th>467</th>\n",
       "      <td>2024-07-19</td>\n",
       "      <td>Hugh Hendry, famed former global macro hedge f...</td>\n",
       "      <td>Hugh Hendry is a former global macro hedge fun...</td>\n",
       "      <td>0.996655</td>\n",
       "    </tr>\n",
       "    <tr>\n",
       "      <th>468</th>\n",
       "      <td>2024-07-19</td>\n",
       "      <td>XRP accounted for almost 40% of all trading ac...</td>\n",
       "      <td>XRP accounted for almost 40% of all trading ac...</td>\n",
       "      <td>0.999675</td>\n",
       "    </tr>\n",
       "  </tbody>\n",
       "</table>\n",
       "<p>469 rows × 4 columns</p>\n",
       "</div>"
      ],
      "text/plain": [
       "           Date                                        Description  \\\n",
       "0    2024-09-12  According to Cointelegraph, the TIME Magazine ...   \n",
       "1    2024-09-12  According to Foresight News, Bitcoin staking p...   \n",
       "2    2024-09-12  On Sep 12, 2024, 18:53 PM(UTC). According to B...   \n",
       "3    2024-09-12  Digital-trading platform eToro USA agreed to p...   \n",
       "4    2024-09-12  On Sep 12, 2024, 02:00 AM (UTC), according to ...   \n",
       "..          ...                                                ...   \n",
       "464  2024-07-22  Traders could be forgiven for wanting to cash ...   \n",
       "465  2024-07-22  Bitcoin financial services firm Swan Bitcoin p...   \n",
       "466  2024-07-21  Trump's social media platform company isn’t th...   \n",
       "467  2024-07-19  Hugh Hendry, famed former global macro hedge f...   \n",
       "468  2024-07-19  XRP accounted for almost 40% of all trading ac...   \n",
       "\n",
       "                                     Short Description  Accurate Sentiments  \n",
       "0    Time Magazine reporter Vera Bergengruen believ...             0.000000  \n",
       "1    Solv has integrated Chainlink's Cross-Chain In...             0.000000  \n",
       "2    Bitcoin has dropped below 58,000 USDT and is n...            -0.994299  \n",
       "3     eToro USA has agreed to limit its crypto offe...             0.000000  \n",
       "4    Bitcoin has crossed the 58,000 USDT benchmark ...             0.999640  \n",
       "..                                                 ...                  ...  \n",
       "464  Bitcoin has risen more than 20% to the current...             0.999660  \n",
       "465  Swan Bitcoin has discontinued its managed mini...             0.000000  \n",
       "466   stock has risen higher as investors have rais...             0.999581  \n",
       "467  Hugh Hendry is a former global macro hedge fun...             0.996655  \n",
       "468  XRP accounted for almost 40% of all trading ac...             0.999675  \n",
       "\n",
       "[469 rows x 4 columns]"
      ]
     },
     "execution_count": 24,
     "metadata": {},
     "output_type": "execute_result"
    }
   ],
   "source": [
    "pd.read_csv(\"../data/final_data/bitcoin_news_sentiments.csv\")"
   ]
  },
  {
   "cell_type": "code",
   "execution_count": null,
   "metadata": {},
   "outputs": [],
   "source": []
  }
 ],
 "metadata": {
  "kernelspec": {
   "display_name": "Python 3 (ipykernel)",
   "language": "python",
   "name": "python3"
  },
  "language_info": {
   "codemirror_mode": {
    "name": "ipython",
    "version": 3
   },
   "file_extension": ".py",
   "mimetype": "text/x-python",
   "name": "python",
   "nbconvert_exporter": "python",
   "pygments_lexer": "ipython3",
   "version": "3.10.12"
  }
 },
 "nbformat": 4,
 "nbformat_minor": 2
}
